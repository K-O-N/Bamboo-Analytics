{
  "nbformat": 4,
  "nbformat_minor": 0,
  "metadata": {
    "colab": {
      "name": "database.ipynb",
      "provenance": [],
      "collapsed_sections": []
    },
    "kernelspec": {
      "name": "python3",
      "display_name": "Python 3"
    },
    "language_info": {
      "name": "python"
    }
  },
  "cells": [
    {
      "cell_type": "markdown",
      "source": [
        "# BAMBOO ANALYTICS \n",
        "\n",
        "> SQL based exploratory analysis for an investment based Fintech that helps customers buy stock locally and internationally. "
      ],
      "metadata": {
        "id": "_9v6eKfVdtAB"
      }
    },
    {
      "cell_type": "code",
      "execution_count": 1,
      "metadata": {
        "id": "FlZuJRXjjG0j"
      },
      "outputs": [],
      "source": [
        "#Import useful libraries \n",
        "\n",
        "import pandas as pd\n",
        "import numpy as np\n",
        "import sqlite3, csv"
      ]
    },
    {
      "cell_type": "code",
      "source": [
        "#create a database if it does not exist \n",
        "\n",
        "con = sqlite3.connect('newdatabase.db')"
      ],
      "metadata": {
        "id": "ov0gAvIIjSak"
      },
      "execution_count": 2,
      "outputs": []
    },
    {
      "cell_type": "code",
      "source": [
        "#Connect\n",
        "\n",
        "cursor = con.cursor()"
      ],
      "metadata": {
        "id": "1wHI-Xt3kF1G"
      },
      "execution_count": 3,
      "outputs": []
    },
    {
      "cell_type": "code",
      "source": [
        "#Create a table \n",
        "\n",
        "cursor.execute(\"CREATE TABLE deposites(id integer,amount integer,status text,user_id integer,payment_method_id integer,\\\n",
        "               inserted_at text,updated_at text,amount_paid real,fee real,exchange_rate text,deposit_type text,\\\n",
        "               dollar_instant_deposit_fee integer,dollar_processing_fee integer,currency text)\")"
      ],
      "metadata": {
        "colab": {
          "base_uri": "https://localhost:8080/"
        },
        "id": "1Dl1hchTSKhD",
        "outputId": "3f1b8f6b-95b4-450e-da0c-65d49f2b2188"
      },
      "execution_count": 4,
      "outputs": [
        {
          "output_type": "execute_result",
          "data": {
            "text/plain": [
              "<sqlite3.Cursor at 0x7f3326d45c70>"
            ]
          },
          "metadata": {},
          "execution_count": 4
        }
      ]
    },
    {
      "cell_type": "code",
      "source": [
        "#Read csv file dropping the headers\n",
        "\n",
        "df = pd.read_csv('/content/deposits.csv', skiprows=[0])\n",
        "df.to_csv('new', index=False)"
      ],
      "metadata": {
        "id": "h0fpYlgEnTXf"
      },
      "execution_count": 5,
      "outputs": []
    },
    {
      "cell_type": "code",
      "source": [
        "#Load dataset into the table in the database\n",
        "\n",
        "with open('/content/new', 'r') as file:\n",
        "  records = csv.reader(file)\n",
        "  no_records = 0\n",
        "  for row in records:\n",
        "    cursor.execute(\"INSERT INTO deposites VALUES (?,?,?,?,?,?,?,?,?,?,?,?,?,?)\", row)\n",
        "    con.commit()\n",
        "    no_records += 1"
      ],
      "metadata": {
        "id": "Q1StdVg-dEco"
      },
      "execution_count": 6,
      "outputs": []
    },
    {
      "cell_type": "code",
      "source": [
        "#Get number of records in the new table deposites\n",
        "\n",
        "select_all = \"SELECT COUNT(*) FROM deposites\"\n",
        "rows = cursor.execute(select_all).fetchall()\n",
        " \n",
        "\n",
        "\n",
        "print(rows)"
      ],
      "metadata": {
        "colab": {
          "base_uri": "https://localhost:8080/"
        },
        "id": "GQXq80MjIMVH",
        "outputId": "647ff71c-1f88-43b5-ce19-dc539ae2dd06"
      },
      "execution_count": 7,
      "outputs": [
        {
          "output_type": "stream",
          "name": "stdout",
          "text": [
            "[(1000,)]\n"
          ]
        }
      ]
    },
    {
      "cell_type": "code",
      "source": [
        "#Get first 3 records in the table\n",
        "\n",
        "select_a = \"SELECT * FROM deposites LIMIT 3\"\n",
        "rows = cursor.execute(select_a).fetchall()\n",
        " \n",
        "\n",
        "\n",
        "print(rows)"
      ],
      "metadata": {
        "colab": {
          "base_uri": "https://localhost:8080/"
        },
        "id": "qsK6RbF4p2Vh",
        "outputId": "d76cc6c2-a46c-4c4d-df4f-e26f84c4e960"
      },
      "execution_count": 8,
      "outputs": [
        {
          "output_type": "stream",
          "name": "stdout",
          "text": [
            "[(255917, 20, 'Deleted', 170, 7, '2021-05-11T00:18:19.000Z', '2021-05-11T00:19:25.000Z', 10070.0, 0.31, '$1/₦496.0', 'standard', 0, '0.31.1', 'NGN'), (255918, 20, 'Deleted', 155744, 2, '2021-05-11T00:42:27.000Z', '2021-05-11T00:44:00.000Z', 10058.88, 0.28, '$1/₦496.0', 'standard', 0, 0.28, 'NGN'), (255919, 300, 'Deleted', 161117, 7, '2021-05-11T00:44:18.000Z', '2021-05-11T00:44:25.000Z', 148950.0, 0.31, '$1/₦496.0', 'standard', 0, 0.31, 'NGN')]\n"
          ]
        }
      ]
    },
    {
      "cell_type": "markdown",
      "source": [
        "# CREATE TABLE 2 \"trades\" in newdatabase"
      ],
      "metadata": {
        "id": "9-3VtsCh6v2x"
      }
    },
    {
      "cell_type": "code",
      "source": [
        "df = pd.read_csv('/content/trades.csv', skiprows=[0])\n",
        "\n",
        "df.to_csv('data2', index=False)"
      ],
      "metadata": {
        "id": "3CTbtvqC6UPO"
      },
      "execution_count": 9,
      "outputs": []
    },
    {
      "cell_type": "code",
      "source": [
        "cursor.execute(\"CREATE TABLE trades(id integer, price_per_share real,side text,stock_symbol text,\\\n",
        "               transaction_value  real,type text,user_id integer,quantity real,inserted_at text,\\\n",
        "               updated_at text,naira_fee real,dollar_fee real ,status text)\")"
      ],
      "metadata": {
        "colab": {
          "base_uri": "https://localhost:8080/"
        },
        "id": "pr8VAixZ7C9L",
        "outputId": "047bf74e-5baf-4ab0-caf1-590d163b206b"
      },
      "execution_count": 10,
      "outputs": [
        {
          "output_type": "execute_result",
          "data": {
            "text/plain": [
              "<sqlite3.Cursor at 0x7f3326d45c70>"
            ]
          },
          "metadata": {},
          "execution_count": 10
        }
      ]
    },
    {
      "cell_type": "code",
      "source": [
        "with open('/content/data2', 'r') as file:\n",
        "  records = csv.reader(file)\n",
        "  no_records = 0\n",
        "  for row in records:\n",
        "    cursor.execute(\"INSERT INTO trades VALUES (?,?,?,?,?,?,?,?,?,?,?,?,?)\", row)\n",
        "    con.commit()\n",
        "    no_records += 1"
      ],
      "metadata": {
        "id": "aBfXPoWh6oum"
      },
      "execution_count": 11,
      "outputs": []
    },
    {
      "cell_type": "code",
      "source": [
        "#Get number of records in the new table trades\n",
        "\n",
        "select_all = \"SELECT COUNT(*) FROM trades\"\n",
        "rows = cursor.execute(select_all).fetchall()\n",
        " \n",
        "\n",
        "\n",
        "print(rows)"
      ],
      "metadata": {
        "colab": {
          "base_uri": "https://localhost:8080/"
        },
        "id": "2-DTDEDZ8FJE",
        "outputId": "f01d3649-b314-4af7-e24d-aae2bfb635fb"
      },
      "execution_count": 12,
      "outputs": [
        {
          "output_type": "stream",
          "name": "stdout",
          "text": [
            "[(1000,)]\n"
          ]
        }
      ]
    },
    {
      "cell_type": "markdown",
      "source": [
        "## SOLVE BUSINESS QUESTIONS USING QUERIES \n",
        "> Deposites"
      ],
      "metadata": {
        "id": "yL0ekbs076HO"
      }
    },
    {
      "cell_type": "markdown",
      "source": [
        "QUESTION 1: What is the median/average deposit value of those using payment method 3 in 2020?"
      ],
      "metadata": {
        "id": "M2AQKOlAvr_X"
      }
    },
    {
      "cell_type": "code",
      "source": [
        "\n",
        "qst1 = \"SELECT AVG(amount_paid) AS average_deposit \\\n",
        "        FROM deposites \\\n",
        "        WHERE payment_method_id = 3 \\\n",
        "              AND inserted_at LIKE '2020%'\"\n",
        "qst1_answer = cursor.execute(qst1).fetchall()\n",
        "\n",
        "print(qst1_answer)"
      ],
      "metadata": {
        "id": "eRZWFYy9vqlx",
        "colab": {
          "base_uri": "https://localhost:8080/"
        },
        "outputId": "db997744-60bf-401f-eff4-639d25202fbd"
      },
      "execution_count": 13,
      "outputs": [
        {
          "output_type": "stream",
          "name": "stdout",
          "text": [
            "[(256528.35,)]\n"
          ]
        }
      ]
    },
    {
      "cell_type": "markdown",
      "source": [
        "QUESTION 2: When, in terms of which month of which year, did we observe the peak and valley (max and min) of deposit volume for Bamboo since inception?"
      ],
      "metadata": {
        "id": "kDHw64GBwWlO"
      }
    },
    {
      "cell_type": "code",
      "source": [
        "qst2 = \"SELECT strftime('%m-%Y', inserted_at) AS month_year, max(amount_paid), min(amount_paid) \\\n",
        "        FROM deposites\"\n",
        "qst2_answer = cursor.execute(qst2).fetchall()\n",
        "\n",
        "print(qst2_answer)"
      ],
      "metadata": {
        "id": "FzJB53ymwWNB",
        "colab": {
          "base_uri": "https://localhost:8080/"
        },
        "outputId": "82b553e4-2a91-442a-f437-803a46110eb6"
      },
      "execution_count": 14,
      "outputs": [
        {
          "output_type": "stream",
          "name": "stdout",
          "text": [
            "[('05-2021', 248000000000.0, 20.58)]\n"
          ]
        }
      ]
    },
    {
      "cell_type": "markdown",
      "source": [
        "QUESTION 3: Who are our power (most frequent) depositors by volume in 2021? Retrieve the user_id and the total volume of those users"
      ],
      "metadata": {
        "id": "AZSNFMBn0rLe"
      }
    },
    {
      "cell_type": "code",
      "source": [
        "qst3 = \"SELECT DISTINCT user_id, COUNT(user_id) AS frequency \\\n",
        "        FROM deposites WHERE inserted_at LIKE '2021%' \\\n",
        "        GROUP BY user_id \\\n",
        "        ORDER BY frequency DESC \\\n",
        "        LIMIT 5\"\n",
        "qst3_answer = cursor.execute(qst3).fetchall()\n",
        "\n",
        "print(qst3_answer)"
      ],
      "metadata": {
        "id": "yD4dTxWFvqiZ",
        "colab": {
          "base_uri": "https://localhost:8080/"
        },
        "outputId": "2c89256d-8035-48d3-acaa-a917a14354a7"
      },
      "execution_count": 15,
      "outputs": [
        {
          "output_type": "stream",
          "name": "stdout",
          "text": [
            "[(53920, 21), (97170, 13), (154445, 8), (163896, 8), (163162, 7)]\n"
          ]
        }
      ]
    },
    {
      "cell_type": "markdown",
      "source": [
        "QUESTION 4: We define High Net Worth individuals as people depositing $10k or above. Retrieve the user_id and the total deposits for users in that segment"
      ],
      "metadata": {
        "id": "nTDwoWHA1opq"
      }
    },
    {
      "cell_type": "code",
      "source": [
        "qst4 = \"SELECT user_id, SUM(amount_paid) AS deposit  \\\n",
        "        FROM deposites WHERE amount_paid > 10000 \\\n",
        "        GROUP BY user_id \\\n",
        "        ORDER BY deposit DESC \\\n",
        "        LIMIT 10\"\n",
        "qst4_answer = cursor.execute(qst4).fetchall()\n",
        "\n",
        "print(qst4_answer)"
      ],
      "metadata": {
        "id": "ojgWfMYWvqgH",
        "colab": {
          "base_uri": "https://localhost:8080/"
        },
        "outputId": "53ad4735-8bbf-48a1-e305-25a8986c19ab"
      },
      "execution_count": 16,
      "outputs": [
        {
          "output_type": "stream",
          "name": "stdout",
          "text": [
            "[(162896, 248248002000.0), (166399, 27381500.0), (42131, 19865596.0), (53920, 19369597.279999997), (33074, 15621103.26), (166239, 11912150.0), (149505, 9945100.0), (122297, 9933920.0), (166171, 9932058.88), (163651, 9924150.0)]\n"
          ]
        }
      ]
    },
    {
      "cell_type": "markdown",
      "source": [
        "QUESTION 5: What's the most used payment method among all users by volume?"
      ],
      "metadata": {
        "id": "z9LEHDFi3DYI"
      }
    },
    {
      "cell_type": "code",
      "source": [
        "qst5 = \"SELECT  payment_method_id, COUNT ( payment_method_id) AS counts \\\n",
        "        FROM deposites \\\n",
        "        GROUP BY payment_method_id \\\n",
        "        ORDER BY counts DESC\"\n",
        "qst5_answer = cursor.execute(qst5).fetchall()\n",
        "\n",
        "print(qst5_answer)"
      ],
      "metadata": {
        "id": "AyUEpS3F3Lks",
        "colab": {
          "base_uri": "https://localhost:8080/"
        },
        "outputId": "287228a0-9a3b-4538-f8b4-8621a15a1213"
      },
      "execution_count": 17,
      "outputs": [
        {
          "output_type": "stream",
          "name": "stdout",
          "text": [
            "[(1, 384), (7, 346), (4, 135), (2, 84), (6, 31), (3, 20)]\n"
          ]
        }
      ]
    },
    {
      "cell_type": "markdown",
      "source": [
        "QUESTION 6: What's the average transaction fee?"
      ],
      "metadata": {
        "id": "0tBIS1Gn40CU"
      }
    },
    {
      "cell_type": "code",
      "source": [
        "qst6 = \"SELECT  AVG(fee) AS avg_transaction_fee \\\n",
        "       FROM deposites\"\n",
        "qst6_answer = cursor.execute(qst6).fetchall()\n",
        "\n",
        "print(qst6_answer)"
      ],
      "metadata": {
        "id": "qcDeY-D8vqd_",
        "colab": {
          "base_uri": "https://localhost:8080/"
        },
        "outputId": "ede58416-9f38-49c1-c55d-dd0677166ecf"
      },
      "execution_count": 18,
      "outputs": [
        {
          "output_type": "stream",
          "name": "stdout",
          "text": [
            "[(4.126549999999995,)]\n"
          ]
        }
      ]
    },
    {
      "cell_type": "markdown",
      "source": [
        "## SECTION 2\n",
        "> Trades"
      ],
      "metadata": {
        "id": "Wu-NM077-ZdR"
      }
    },
    {
      "cell_type": "markdown",
      "source": [
        "QUESTION 7: Obtain the month-over-month change in absolute value and percentage for all completed (where status=Filled)Trades in 2020?"
      ],
      "metadata": {
        "id": "1zrv_ymRCr4A"
      }
    },
    {
      "cell_type": "code",
      "source": [
        "#qst7 = \"SELECT  AVG(fee) AS avg_transaction_fee FROM deposites\"\n",
        "#qst7_answer = cursor.execute(qst7).fetchall()\n",
        "\n",
        "#print(qst7_answer)"
      ],
      "metadata": {
        "id": "NKVpeHv95ftC"
      },
      "execution_count": 19,
      "outputs": []
    },
    {
      "cell_type": "markdown",
      "source": [
        "QUESTION 8: Retrieve the list of user_id for those traded above 300x?"
      ],
      "metadata": {
        "id": "E9TOjonQM74z"
      }
    },
    {
      "cell_type": "code",
      "source": [
        "qst8 = \"SELECT user_id, ROUND( SUM (price_per_share * quantity ), 2) AS traded_value \\\n",
        "       FROM trades \\\n",
        "       GROUP BY user_id \\\n",
        "       HAVING traded_value > 300 \\\n",
        "       ORDER BY traded_value DESC\"\n",
        "qst8_answer = cursor.execute(qst8).fetchall()\n",
        "\n",
        "print(qst8_answer)"
      ],
      "metadata": {
        "id": "DKCVEeHmvqbl",
        "colab": {
          "base_uri": "https://localhost:8080/"
        },
        "outputId": "e24473df-f52c-450b-8aae-72f25d06d6fe"
      },
      "execution_count": 20,
      "outputs": [
        {
          "output_type": "stream",
          "name": "stdout",
          "text": [
            "[(12651, 150000.0), (5805, 60000.0), (21530, 57382.62), (26287, 21350.0), (21939, 17236.0), (1635, 15156.0), (39799, 12764.84), (46739, 10274.0), (34209, 7880.0), (17930, 7373.16), (29944, 5679.0), (28918, 4952.22), (8479, 4900.0), (72395, 3874.56), (59124, 3820.41), (90381, 3455.01), (27089, 3252.95), (81501, 3083.13), (75507, 2908.89), (72699, 2871.83), (95020, 2636.24), (55387, 2632.0), (8179, 2352.1), (60514, 2350.0), (63007, 2205.5), (81127, 2082.38), (20228, 2001.87), (64293, 1711.87), (19217, 1644.0), (84831, 1553.81), (5140, 1540.1), (65758, 1515.22), (11958, 1485.0), (24819, 1481.66), (82708, 1477.5), (16811, 1475.0), (96689, 1455.34), (27389, 1435.77), (74530, 1410.0), (16457, 1337.44), (14837, 1241.96), (98354, 1201.7), (68131, 1174.83), (27481, 1164.37), (80574, 1132.07), (40879, 1112.0), (18390, 1090.51), (47067, 1079.13), (1262, 1070.51), (5095, 1049.29), (35415, 1034.84), (29459, 1023.79), (29491, 991.42), (721, 990.0), (75238, 989.71), (38525, 989.55), (65088, 985.08), (96302, 985.0), (38631, 983.83), (48448, 962.03), (35176, 907.08), (66899, 881.7), (36009, 878.24), (7613, 847.2), (63965, 841.5), (83733, 840.22), (34466, 810.0), (61141, 799.96), (36235, 794.38), (48307, 790.0), (24094, 773.2), (40077, 759.15), (49451, 753.36), (24729, 746.39), (30726, 734.1), (43879, 694.27), (31263, 692.32), (40268, 686.69), (57218, 686.17), (69948, 659.06), (30883, 640.0), (18965, 637.41), (625, 600.0), (29075, 600.0), (77146, 594.8), (84759, 592.35), (54386, 552.38), (81275, 549.5), (64176, 546.95), (34089, 544.76), (87691, 540.0), (14672, 534.2), (48192, 532.86), (68247, 520.88), (39885, 513.73), (81303, 509.17), (24792, 499.22), (1706, 495.0), (42823, 494.53), (28893, 493.82), (43541, 492.5), (55501, 492.5), (78137, 491.91), (58296, 489.5), (7527, 486.2), (86733, 480.0), (46308, 476.0), (88265, 469.67), (61662, 459.43), (96718, 428.68), (29592, 427.66), (26357, 426.12), (54399, 405.43), (37102, 405.0), (71199, 403.36), (41641, 396.0), (29141, 394.0), (30098, 392.71), (57813, 383.75), (47187, 373.53), (24818, 363.92), (88945, 356.16), (376, 345.09), (16062, 344.75), (86995, 344.63), (17562, 340.0), (81301, 329.96), (56950, 325.05), (48564, 321.27), (44736, 320.39), (18581, 310.41), (50979, 309.52), (71975, 308.5), (95139, 307.5), (92959, 302.73), (80775, 301.0), (21797, 300.8)]\n"
          ]
        }
      ]
    },
    {
      "cell_type": "markdown",
      "source": [
        "QUESTION 9: Find the best performing week, by total transaction value, from 2019 until today?"
      ],
      "metadata": {
        "id": "mWdr7g9tPCiP"
      }
    },
    {
      "cell_type": "code",
      "source": [
        "qst9 = \"SELECT strftime('%w', updated_at) AS weekly, ROUND( SUM(price_per_share * quantity ), 2) AS traded_value \\\n",
        "        FROM trades \\\n",
        "        GROUP BY weekly \\\n",
        "        ORDER BY traded_value DESC\"\n",
        "qst9_answer = cursor.execute(qst9).fetchall()\n",
        "\n",
        "print(qst9_answer)"
      ],
      "metadata": {
        "id": "7hAMs_UkvqZY",
        "colab": {
          "base_uri": "https://localhost:8080/"
        },
        "outputId": "1c70424c-ee7e-40f4-c09a-99a7a0f96fc3"
      },
      "execution_count": 21,
      "outputs": [
        {
          "output_type": "stream",
          "name": "stdout",
          "text": [
            "[('5', 518158.27), ('4', 11328.19), ('1', 1006.58), (None, 201.39), ('3', 53.95), ('2', 15.76)]\n"
          ]
        }
      ]
    },
    {
      "cell_type": "markdown",
      "source": [
        "QUESTION 10: What are the top 5 bought stocks by volume? "
      ],
      "metadata": {
        "id": "-2hekLWgSaTJ"
      }
    },
    {
      "cell_type": "code",
      "source": [
        "qst10 = \"SELECT stock_symbol, ROUND( SUM(quantity ), 2) AS traded_volume \\\n",
        "         FROM trades \\\n",
        "         GROUP BY stock_symbol \\\n",
        "         ORDER BY traded_volume DESC\"\n",
        "qst10_answer = cursor.execute(qst10).fetchall()\n",
        "\n",
        "print(qst10_answer)"
      ],
      "metadata": {
        "id": "6-E6qzKWvqXW",
        "colab": {
          "base_uri": "https://localhost:8080/"
        },
        "outputId": "a9c13a2f-321d-4457-f1a9-52bcc6a35a32"
      },
      "execution_count": 22,
      "outputs": [
        {
          "output_type": "stream",
          "name": "stdout",
          "text": [
            "[('TELL', 6472.28), ('EXPR', 3201.81), ('AMC', 2825.07), ('PHUN', 2769.82), ('NOK', 942.71), ('KOS', 687.97), ('GEVO', 496.89), ('SENS', 410.57), ('AHT', 372.3), ('ADXS', 345.04), ('SOLO', 335.64), ('GME', 282.91), ('BB', 252.02), ('INO', 245.34), ('GSAT', 223.15), ('ACRX', 161.84), ('DOFSQ', 149.18), ('ASNAQ', 147.75), ('MTCH', 139.0), ('M', 110.0), ('XPEV', 104.03), ('ASRT', 102.0), ('JMIA', 101.81), ('NIO', 100.53), ('ACOR', 98.16), ('IDEX', 88.02), ('YTRA', 87.93), ('SOL', 83.67), ('MARA', 81.76), ('BTU', 81.17), ('ERIC', 75.64), ('TSLA', 74.99), ('AQMS', 69.95), ('NKLA', 63.62), ('FCEL', 61.48), ('CCIV', 52.26), ('GNOG', 47.79), ('CHS', 44.61), ('SLB', 44.58), ('PLTR', 43.37), ('MGI', 43.3), ('CRIS', 42.88), ('FSR', 41.12), ('GORO', 39.85), ('CLOV', 37.17), ('WKHS', 36.55), ('WATT', 35.72), ('RUN', 32.14), ('ET', 29.84), ('AG', 28.35), ('AAPL', 27.41), ('FUBO', 26.66), ('NVAX', 26.61), ('TOUR', 26.32), ('DMYD', 25.86), ('VXRT', 22.67), ('LYG', 20.83), ('BLNK', 20.4), ('TNXP', 20.32), ('CRNT', 20.21), ('SPCE', 20.06), ('RESN', 17.37), ('NLS', 16.0), ('RIOT', 15.88), ('LAC', 14.93), ('GPORQ', 14.76), ('GRWG', 14.31), ('MVIS', 14.09), ('NET', 12.93), ('ESGC', 12.87), ('AAL', 12.43), ('TXMD', 12.4), ('LMND', 12.19), ('TLRY', 12.0), ('TRIT', 12.0), ('MJ', 11.92), ('LAZR', 11.88), ('ABUS', 11.15), ('WFC', 10.98), ('AIV', 10.06), ('BLCM', 10.0), ('SVM', 10.0), ('TME', 10.0), ('TRVG', 9.7), ('PLUG', 8.37), ('UNIT', 8.18), ('CHUY', 8.03), ('WPG', 7.45), ('MRNA', 6.68), ('BTBT', 6.5), ('APPN', 6.14), ('OSTK', 6.1), ('ESRT', 6.07), ('BLOK', 5.62), ('SWN', 5.6), ('ACB', 5.21), ('HL', 5.09), ('HIMX', 5.0), ('KO', 5.0), ('RKT', 5.0), ('JP', 4.93), ('ARKQ', 4.26), ('RIDE', 4.21), ('SNCR', 4.0), ('APHA', 3.95), ('NOVA', 3.94), ('WISH', 3.75), ('DM', 3.52), ('QEP', 3.32), ('EHTH', 3.01), ('CAC', 3.0), ('MUX', 2.95), ('BNGO', 2.76), ('ABNB', 2.75), ('RMO', 2.73), ('MP', 2.6), ('NNDM', 2.51), ('ACRS', 2.46), ('PETS', 2.43), ('SKLZ', 2.16), ('SRNE', 2.08), ('TTCF', 2.08), ('CWEN', 2.07), ('CMCM', 2.03), ('CYH', 2.02), ('SFIX', 2.0), ('UBER', 2.0), ('MBT', 1.97), ('MPLN', 1.75), ('VOO', 1.53), ('ARKK', 1.45), ('DQ', 1.39), ('VEON', 1.38), ('FB', 1.32), ('CSIQ', 1.25), ('NFLX', 1.24), ('AMCX', 1.21), ('AMD', 1.21), ('GM', 1.1), ('MESO', 1.07), ('NEE', 1.04), ('CIO', 1.03), ('FCF', 1.03), ('MGM', 1.03), ('BAC', 1.02), ('CLDR', 1.01), ('DDD', 1.01), ('HPE', 1.01), ('ZYME', 1.01), ('CARS', 1.0), ('GOCO', 1.0), ('MASI', 1.0), ('MRK', 1.0), ('OPEN', 1.0), ('PINS', 1.0), ('POSH', 1.0), ('FOSL', 0.99), ('HYLN', 0.99), ('NVTA', 0.99), ('AFRM', 0.98), ('BEP', 0.98), ('CDE', 0.98), ('KLXE', 0.98), ('SPR', 0.98), ('STNE', 0.98), ('YYY', 0.98), ('ZS', 0.98), ('TWTR', 0.97), ('IPO', 0.86), ('CEQP', 0.81), ('NKE', 0.8), ('CODX', 0.75), ('QCOM', 0.74), ('ZM', 0.69), ('BE', 0.68), ('GOGO', 0.67), ('CRON', 0.65), ('SHOP', 0.64), ('UMC', 0.61), ('ARCT', 0.6), ('DDOG', 0.6), ('DKNG', 0.58), ('UPWK', 0.58), ('CGC', 0.54), ('CRBP', 0.52), ('SQ', 0.52), ('JNJ', 0.51), ('RDFN', 0.5), ('REGN', 0.5), ('SPWR', 0.48), ('BABA', 0.43), ('VYM', 0.43), ('AMZN', 0.42), ('PBI', 0.41), ('MSTR', 0.38), ('SLV', 0.36), ('WMT', 0.35), ('ICLN', 0.33), ('BNTX', 0.27), ('K', 0.26), ('AL', 0.25), ('IDA', 0.22), ('KODK', 0.21), ('TQQQ', 0.21), ('CANO', 0.2), ('ARVL', 0.19), ('SPY', 0.17), ('VFF', 0.17), ('CLI', 0.15), ('SPOT', 0.15), ('VLDR', 0.15), ('PG', 0.14), ('FVRR', 0.13), ('AVGO', 0.11), ('BYND', 0.11), ('ROKU', 0.11), ('AZN', 0.1), ('ENPH', 0.1), ('ETSY', 0.1), ('LI', 0.1), ('PENN', 0.1), ('TWLO', 0.1), ('BGS', 0.08), ('CRM', 0.07), ('NNOX', 0.07), ('DIS', 0.06), ('GOOGL', 0.05), ('PAYC', 0.05), ('SIVB', 0.05), ('DLTH', 0.04), ('MSFT', 0.03), ('TTD', 0.03), ('AFL', 0.02), ('MELI', 0.02), ('ADM', 0.01), ('AXP', 0.01), ('COKE', 0.01), ('MA', 0.01), ('OPK', 0.01), ('GOOG', 0.0), ('LSPD', 0.0)]\n"
          ]
        }
      ]
    },
    {
      "cell_type": "markdown",
      "source": [
        "QUESTION 11: What are the trade commissions for each side? "
      ],
      "metadata": {
        "id": "W8kKdcQ_TRZ3"
      }
    },
    {
      "cell_type": "code",
      "source": [
        "qst11 = \"SELECT side, SUM(naira_fee) AS naira_commission, SUM(dollar_fee) AS dollar_commission \\\n",
        "         FROM trades GROUP BY side\"\n",
        "qst11_answer = cursor.execute(qst11).fetchall()\n",
        "\n",
        "print(qst11_answer)\n",
        "pd.read"
      ],
      "metadata": {
        "id": "hJIEXFEBvqU2",
        "colab": {
          "base_uri": "https://localhost:8080/"
        },
        "outputId": "87883c3b-4a2d-4db8-d60d-3219ff6b5075"
      },
      "execution_count": 23,
      "outputs": [
        {
          "output_type": "stream",
          "name": "stdout",
          "text": [
            "[('BUY', 734657.4469999992, 1520.9399999999987), ('SELL', 2707372.2699999996, 5623.639999999999)]\n"
          ]
        }
      ]
    },
    {
      "cell_type": "markdown",
      "source": [
        "QUESTION 12: Which stock generated the most commissions from the BUY side?"
      ],
      "metadata": {
        "id": "yiyISsDVUd7q"
      }
    },
    {
      "cell_type": "code",
      "source": [
        "qst12 = \"SELECT stock_symbol, SUM(naira_fee) AS naira_commission \\\n",
        "         FROM trades WHERE side = 'BUY' \\\n",
        "         GROUP BY stock_symbol \\\n",
        "         ORDER BY naira_commission DESC\"\n",
        "qst12_answer = cursor.execute(qst12).fetchall()\n",
        "\n",
        "print(qst12_answer)"
      ],
      "metadata": {
        "id": "bHOird-vUb2A",
        "colab": {
          "base_uri": "https://localhost:8080/"
        },
        "outputId": "87cd495c-e491-48ca-d240-542406ecaba2"
      },
      "execution_count": 24,
      "outputs": [
        {
          "output_type": "stream",
          "name": "stdout",
          "text": [
            "[('GME', 186739.84000000008), ('AMC', 71905.76000000002), ('TSLA', 51542.05), ('NVAX', 42814.75), ('GEVO', 26692.66), ('EXPR', 26145.96), ('XPEV', 24003.2), ('INO', 22771.06), ('PHUN', 20763.989999999998), ('AAPL', 19708.92), ('NOK', 19168.720000000005), ('MARA', 11541.470000000001), ('RUN', 11126.160000000002), ('BB', 10730.879999999997), ('PLTR', 8957.02), ('NIO', 8832.48), ('SOL', 8241.6), ('KOS', 7630.75), ('NKLA', 7181.7), ('ERIC', 6244.259999999999), ('SOLO', 5770.48), ('FUBO', 5331.6900000000005), ('NET', 4848.0), ('SLB', 4848.0), ('SHOP', 4513.49), ('GNOG', 4120.8), ('TELL', 3994.3700000000003), ('VOO', 3909.3), ('DMYD', 3636.0), ('GRWG', 3369.36), ('CCIV', 3342.41), ('NFLX', 3336.09), ('CRIS', 3317.8699999999994), ('FCEL', 2885.7400000000002), ('SENS', 2699.99), ('AG', 2665.38), ('AQMS', 2608.2200000000003), ('FSR', 2424.0), ('BTU', 2350.69), ('MRNA', 2339.6), ('FB', 2336.44), ('APPN', 2269.42), ('LMND', 2250.71), ('RIOT', 2230.08), ('LAZR', 2116.21), ('IDEX', 1928.9599999999998), ('REGN', 1861.63), ('ADXS', 1847.0900000000001), ('MSTR', 1818.0), ('KO', 1706.5), ('WFC', 1692.8000000000002), ('GSAT', 1653.02), ('LAC', 1642.21), ('MJ', 1454.4), ('BLNK', 1352.5900000000001), ('NOVA', 1307.07), ('VXRT', 1297.25), ('MASI', 1236.24), ('ABNB', 1073.97), ('ET', 964.75), ('SFIX', 955.06), ('DQ', 911.4200000000001), ('EHTH', 861.26), ('QCOM', 858.1), ('AMZN', 811.62), ('JMIA', 799.9200000000001), ('NKE', 795.07), ('AMD', 770.8299999999999), ('YTRA', 736.4599999999999), ('UNIT', 732.53), ('GOOGL', 727.2), ('MVIS', 727.2), ('RESN', 727.2), ('SQ', 727.2), ('CHS', 725.6700000000001), ('AFRM', 718.17), ('PETS', 693.26), ('CRNT', 683.14), ('MTCH', 673.87), ('DM', 615.7), ('TRIT', 601.15), ('MP', 574.54), ('STNE', 531.45), ('CSIQ', 509.04), ('PINS', 503.35), ('JNJ', 499.34), ('SPY', 479.95), ('SVM', 470.26), ('CWEN', 469.2), ('DDOG', 436.32), ('ESRT', 431.87), ('NEE', 421.78), ('AMCX', 421.33), ('TOUR', 373.28999999999996), ('APHA', 368.66), ('MRK', 368.66), ('RMO', 363.6), ('TTCF', 363.6), ('WISH', 363.6), ('WMT', 363.6), ('NVTA', 358.75), ('BEP', 329.66), ('ROKU', 320.78), ('ASNAQ', 306.42), ('CLOV', 305.0), ('LYG', 266.64), ('RDFN', 266.64), ('DDD', 258.54), ('ACB', 256.03999999999996), ('ZYME', 253.75), ('ZS', 245.4478), ('SPR', 244.18), ('AVGO', 242.4), ('SPOT', 239.39), ('BNTX', 232.44), ('HIMX', 229.81), ('AIV', 227.86), ('BNGO', 227.86), ('BAC', 223.01), ('DKNG', 223.01), ('PLUG', 218.16), ('FVRR', 198.77), ('SRNE', 195.0), ('VYM', 193.92), ('DOFSQ', 189.07), ('ESGC', 159.68), ('SIVB', 158.0), ('BTBT', 155.14), ('TXMD', 155.13), ('BYND', 153.21), ('MELI', 150.29), ('ETSY', 150.0), ('CYH', 145.44), ('TQQQ', 145.44), ('WKHS', 145.44), ('TNXP', 143.63), ('SNCR', 140.59), ('AAL', 138.84), ('MBT', 130.9), ('HYLN', 121.2), ('OPEN', 121.2), ('YYY', 116.35), ('CLDR', 114.91), ('K', 113.64), ('MPLN', 106.66), ('FOSL', 105.33), ('SPCE', 101.81), ('CRM', 96.96), ('GOCO', 96.96), ('IDA', 96.96), ('ZM', 92.11), ('CEQP', 82.42), ('AL', 72.72), ('CODX', 72.72), ('DIS', 72.72), ('ICLN', 72.72), ('PENN', 72.72), ('MESO', 71.82), ('QEP', 71.82), ('GOGO', 67.87), ('JP', 67.87), ('SLV', 67.87), ('NNDM', 63.02), ('CDE', 62.24), ('PAYC', 58.4544), ('FCF', 58.18), ('KLXE', 58.18), ('TWLO', 54.801), ('CRON', 48.48), ('AHT', 47.88), ('CIO', 47.88), ('HL', 43.63), ('GORO', 38.78), ('UMC', 38.78), ('ARVL', 33.94), ('AZN', 33.94), ('NNOX', 33.51), ('MUX', 29.09), ('WATT', 28.73), ('COKE', 26.68), ('MSFT', 25.5738), ('BGS', 19.39), ('CANO', 19.39), ('TRVG', 19.15), ('CLI', 14.54), ('KODK', 14.54), ('MA', 14.54), ('VEON', 14.54), ('VFF', 14.54), ('AXP', 9.7), ('BABA', 9.7), ('GPORQ', 9.7), ('CRBP', 4.79)]\n"
          ]
        }
      ]
    },
    {
      "cell_type": "markdown",
      "source": [
        "QUESTION 13: Count all users who deposited since bamboo began but haven't traded"
      ],
      "metadata": {
        "id": "ZZKZrqRkVWN_"
      }
    },
    {
      "cell_type": "code",
      "source": [
        "qst13 = \"SELECT COUNT (DISTINCT user_id) \\\n",
        "         FROM deposites \\\n",
        "         WHERE user_id NOT IN (SELECT user_id FROM trades)\"\n",
        "qst13_answer = cursor.execute(qst13).fetchall()\n",
        "\n",
        "print(qst13_answer)"
      ],
      "metadata": {
        "id": "eTUPFd__vqTD",
        "colab": {
          "base_uri": "https://localhost:8080/"
        },
        "outputId": "47267b59-8cd6-4898-ef47-58de80a8ad15"
      },
      "execution_count": 25,
      "outputs": [
        {
          "output_type": "stream",
          "name": "stdout",
          "text": [
            "[(614,)]\n"
          ]
        }
      ]
    },
    {
      "cell_type": "markdown",
      "source": [
        "QUESTION 14: Count all users with deposits under $1k"
      ],
      "metadata": {
        "id": "OCMk33w2XIJC"
      }
    },
    {
      "cell_type": "code",
      "source": [
        "qst14 = \"SELECT COUNT (DISTINCT user_id) \\\n",
        "        FROM deposites \\\n",
        "        WHERE amount_paid  < 1000\"\n",
        "qst14_answer = cursor.execute(qst14).fetchall()\n",
        "\n",
        "print(qst14_answer)"
      ],
      "metadata": {
        "id": "PIYOdWJCXPZY",
        "colab": {
          "base_uri": "https://localhost:8080/"
        },
        "outputId": "996bb6e0-4c7b-4ebb-966b-694722684c78"
      },
      "execution_count": 26,
      "outputs": [
        {
          "output_type": "stream",
          "name": "stdout",
          "text": [
            "[(94,)]\n"
          ]
        }
      ]
    },
    {
      "cell_type": "markdown",
      "source": [
        "QUESTION 15: Count all users who had 2 or more deposits before 2021 but have not deposited in 2021"
      ],
      "metadata": {
        "id": "Czcznb6DYlcv"
      }
    },
    {
      "cell_type": "code",
      "source": [
        "qst15 = \"WITH new AS ( \\\n",
        "             SELECT user_id, COUNT ( user_id) AS users_count \\\n",
        "              FROM deposites \\\n",
        "              WHERE updated_at LIKE '2020%' \\\n",
        "              AND user_id NOT IN (SELECT user_id FROM deposites WHERE updated_at LIKE '2021%' ) \\\n",
        "              GROUP BY user_id \\\n",
        "              HAVING users_count >= 2) \\\n",
        "        SELECT count(user_id) \\\n",
        "        FROM new\"\n",
        "        \n",
        "qst15_answer = cursor.execute(qst15).fetchall()\n",
        "\n",
        "print(qst15_answer)"
      ],
      "metadata": {
        "id": "X5TlAUdnXP4d",
        "colab": {
          "base_uri": "https://localhost:8080/"
        },
        "outputId": "e87c5f1c-dff2-475c-a91b-e00c6167a239"
      },
      "execution_count": 27,
      "outputs": [
        {
          "output_type": "stream",
          "name": "stdout",
          "text": [
            "[(18,)]\n"
          ]
        }
      ]
    },
    {
      "cell_type": "code",
      "source": [
        "con.close()"
      ],
      "metadata": {
        "id": "KhYpv7WaIoqk"
      },
      "execution_count": 28,
      "outputs": []
    }
  ]
}